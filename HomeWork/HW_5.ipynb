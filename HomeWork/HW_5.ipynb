{
 "cells": [
  {
   "cell_type": "code",
   "execution_count": 1,
   "id": "f542445c",
   "metadata": {},
   "outputs": [],
   "source": [
    "import numpy as np"
   ]
  },
  {
   "cell_type": "code",
   "execution_count": 3,
   "id": "ba05bc2c",
   "metadata": {},
   "outputs": [],
   "source": [
    "def get_polynom(coords):\n",
    "    n = len(coords)\n",
    "    x = [c[0] for c in coords]\n",
    "    y = [c[1] for c in coords]\n",
    "    a = np.ones((n, n))\n",
    "\n",
    "    # calc x matrix\n",
    "    for i in range(len(x)): # row\n",
    "        for j in range(1, len(x)): # colon\n",
    "\n",
    "            a[i][j] = pow(x[i],j)\n",
    "\n",
    "    # calc y matrix\n",
    "    text_to_b = ''\n",
    "    for item in y:\n",
    "\n",
    "        text_item = f'{item};'\n",
    "        text_to_b += text_item\n",
    "\n",
    "    text_to_b = text_to_b[:-1]\n",
    "    b = np.matrix(text_to_b)\n",
    "\n",
    "    # calc coeficients\n",
    "    return np.linalg.solve(a, b)"
   ]
  },
  {
   "cell_type": "code",
   "execution_count": 4,
   "id": "2c8618cf",
   "metadata": {},
   "outputs": [],
   "source": [
    "coords =  [(-1, 2), (0, 3), (3, 4), (5, 0)]"
   ]
  },
  {
   "cell_type": "code",
   "execution_count": 5,
   "id": "ff0b1bbd",
   "metadata": {},
   "outputs": [
    {
     "data": {
      "text/plain": [
       "matrix([[ 3.        ],\n",
       "        [ 0.98333333],\n",
       "        [-0.06666667],\n",
       "        [-0.05      ]])"
      ]
     },
     "execution_count": 5,
     "metadata": {},
     "output_type": "execute_result"
    }
   ],
   "source": [
    "get_polynom(coords)"
   ]
  },
  {
   "cell_type": "code",
   "execution_count": null,
   "id": "e3161c13",
   "metadata": {},
   "outputs": [],
   "source": []
  }
 ],
 "metadata": {
  "kernelspec": {
   "display_name": "Python 3 (ipykernel)",
   "language": "python",
   "name": "python3"
  },
  "language_info": {
   "codemirror_mode": {
    "name": "ipython",
    "version": 3
   },
   "file_extension": ".py",
   "mimetype": "text/x-python",
   "name": "python",
   "nbconvert_exporter": "python",
   "pygments_lexer": "ipython3",
   "version": "3.10.4"
  }
 },
 "nbformat": 4,
 "nbformat_minor": 5
}
