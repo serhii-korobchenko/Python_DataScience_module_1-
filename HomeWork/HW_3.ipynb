{
 "cells": [
  {
   "cell_type": "code",
   "execution_count": 1,
   "id": "bb9dd4ee",
   "metadata": {},
   "outputs": [],
   "source": [
    "import numpy as np"
   ]
  },
  {
   "cell_type": "code",
   "execution_count": 2,
   "id": "aeec39bc",
   "metadata": {},
   "outputs": [],
   "source": [
    "A = np.array([np.sqrt(3), 0, np.sqrt(3)])"
   ]
  },
  {
   "cell_type": "code",
   "execution_count": 3,
   "id": "c27c4673",
   "metadata": {},
   "outputs": [],
   "source": [
    "B = np.array([np.sqrt(6), 0.5, 0])"
   ]
  },
  {
   "cell_type": "code",
   "execution_count": 4,
   "id": "c8e18bc0",
   "metadata": {},
   "outputs": [],
   "source": [
    "C = np.array([1, 1/np.sqrt(3), 1])"
   ]
  },
  {
   "cell_type": "code",
   "execution_count": 5,
   "id": "f3ecdbd4",
   "metadata": {},
   "outputs": [],
   "source": [
    "MAB = (A + B) / 2\n",
    "MAC = (A + C) / 2\n",
    "MBC = (B + C) / 2"
   ]
  },
  {
   "cell_type": "code",
   "execution_count": 6,
   "id": "383ffaeb",
   "metadata": {},
   "outputs": [],
   "source": [
    "u = B - A\n",
    "v = C - A\n",
    "w = C - B"
   ]
  },
  {
   "cell_type": "code",
   "execution_count": 7,
   "id": "e194e1b2",
   "metadata": {},
   "outputs": [],
   "source": [
    "n = np.cross(u, v)"
   ]
  },
  {
   "cell_type": "code",
   "execution_count": 8,
   "id": "76223d47",
   "metadata": {},
   "outputs": [],
   "source": [
    "alpha = np.dot(u, u)\n",
    "beta = np.dot(v, v)\n",
    "gamma = np.dot(w, w)\n",
    "delta = 2 * np.dot(u, v * np.dot(w, n))\n",
    "epsilon = 2 * np.dot(u, w * np.dot(v, n))\n",
    "zeta = 2 * np.dot(v, w * np.dot(u, n))"
   ]
  },
  {
   "cell_type": "code",
   "execution_count": 9,
   "id": "1b31fc87",
   "metadata": {},
   "outputs": [],
   "source": [
    "D = np.linalg.solve(np.array([[alpha, delta/2, epsilon/2], [delta/2, beta, zeta/2], [epsilon/2, zeta/2, gamma]]), np.array([np.dot(A, A) - np.dot(MAB, MAB), np.dot(B, B) - np.dot(MBC, MBC), np.dot(C, C) - np.dot(MAC, MAC)]))"
   ]
  },
  {
   "cell_type": "code",
   "execution_count": 10,
   "id": "3be47ca0",
   "metadata": {},
   "outputs": [],
   "source": [
    "a = np.sqrt((np.dot(D-MAB,u)**2 + np.dot(D-MAB,v)**2 + np.dot(D-MAB,w)**2) / alpha)\n",
    "b = np.sqrt((np.dot(D-MBC,u)**2 + np.dot(D-MBC,v)**2 + np.dot(D-MBC,w)**2) / beta)\n",
    "c = np.sqrt((np.dot(D-MAC,u)**2 + np.dot(D-MAC,v)**2 + np.dot(D-MAC,w)**2) / gamma)"
   ]
  },
  {
   "cell_type": "code",
   "execution_count": 11,
   "id": "9046d9bd",
   "metadata": {},
   "outputs": [
    {
     "name": "stdout",
     "output_type": "stream",
     "text": [
      " a**2 = 4.444192424191531, b**2 = 7.3946844040876964, c**2 = 6.478400579961988\n"
     ]
    }
   ],
   "source": [
    "print (f' a**2 = {a**2}, b**2 = {b**2}, c**2 = {c**2}')"
   ]
  },
  {
   "cell_type": "code",
   "execution_count": 12,
   "id": "5769d23e",
   "metadata": {},
   "outputs": [
    {
     "name": "stdout",
     "output_type": "stream",
     "text": [
      "(x - 0.21679698739113096)**2/4.444192424191531 + (y - 1.9464989199403104)**2/7.3946844040876964 + (z - -0.4770032509095099)**2/6.478400579961988 = 1\n"
     ]
    }
   ],
   "source": [
    "print(f\"(x - {D[0]})**2/{a**2} + (y - {D[1]})**2/{b**2} + (z - {D[2]})**2/{c**2} = 1\")"
   ]
  },
  {
   "cell_type": "code",
   "execution_count": null,
   "id": "db00c835",
   "metadata": {},
   "outputs": [],
   "source": []
  }
 ],
 "metadata": {
  "kernelspec": {
   "display_name": "Python 3 (ipykernel)",
   "language": "python",
   "name": "python3"
  },
  "language_info": {
   "codemirror_mode": {
    "name": "ipython",
    "version": 3
   },
   "file_extension": ".py",
   "mimetype": "text/x-python",
   "name": "python",
   "nbconvert_exporter": "python",
   "pygments_lexer": "ipython3",
   "version": "3.10.4"
  }
 },
 "nbformat": 4,
 "nbformat_minor": 5
}
