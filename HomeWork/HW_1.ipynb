{
 "cells": [
  {
   "cell_type": "code",
   "execution_count": 1,
   "id": "9e939c2b",
   "metadata": {},
   "outputs": [],
   "source": [
    "import numpy as np"
   ]
  },
  {
   "cell_type": "code",
   "execution_count": 2,
   "id": "a093daf2",
   "metadata": {},
   "outputs": [],
   "source": [
    "a = np.matrix(\"1,1,1;0.05,0.07,0;0.05, 0, 0.06\")"
   ]
  },
  {
   "cell_type": "code",
   "execution_count": 3,
   "id": "73c5408f",
   "metadata": {},
   "outputs": [],
   "source": [
    "b = np.matrix(\"50000;2250;1400\")"
   ]
  },
  {
   "cell_type": "code",
   "execution_count": 4,
   "id": "de70e55e",
   "metadata": {},
   "outputs": [],
   "source": [
    "a_inv = np.linalg.inv(a)"
   ]
  },
  {
   "cell_type": "code",
   "execution_count": 5,
   "id": "dab51b74",
   "metadata": {},
   "outputs": [],
   "source": [
    "x = a_inv.dot(b)"
   ]
  },
  {
   "cell_type": "code",
   "execution_count": 6,
   "id": "c688cf48",
   "metadata": {},
   "outputs": [
    {
     "data": {
      "text/plain": [
       "matrix([[10000.],\n",
       "        [25000.],\n",
       "        [15000.]])"
      ]
     },
     "execution_count": 6,
     "metadata": {},
     "output_type": "execute_result"
    }
   ],
   "source": [
    "x"
   ]
  },
  {
   "cell_type": "code",
   "execution_count": null,
   "id": "921a2780",
   "metadata": {},
   "outputs": [],
   "source": []
  }
 ],
 "metadata": {
  "kernelspec": {
   "display_name": "Python 3 (ipykernel)",
   "language": "python",
   "name": "python3"
  },
  "language_info": {
   "codemirror_mode": {
    "name": "ipython",
    "version": 3
   },
   "file_extension": ".py",
   "mimetype": "text/x-python",
   "name": "python",
   "nbconvert_exporter": "python",
   "pygments_lexer": "ipython3",
   "version": "3.10.4"
  }
 },
 "nbformat": 4,
 "nbformat_minor": 5
}
