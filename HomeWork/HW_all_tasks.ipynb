{
 "cells": [
  {
   "cell_type": "markdown",
   "id": "72796b2b",
   "metadata": {},
   "source": [
    "Task #1"
   ]
  },
  {
   "cell_type": "markdown",
   "id": "90572f2a",
   "metadata": {},
   "source": [
    "# Investor  (50000) -----> Bank1 (5%)  ------ ? initially\n",
    "#                   -----> Bank2 (7%)  ------ ? initially\n",
    "#                   -----> Bank3(6 %)  ------ ? initially\n",
    "#\n",
    "# Income ----- Bank1 + Bank2 = 2250\n",
    "#        ----- Bank1 + Bank3 = 1400\n",
    "#\n",
    "# 1x + 1y + 1z = 50000\n",
    "# 0.05x + 0.07y + 0z = 2250\n",
    "# 0.05x + 0z + 0.06z = 1400\n",
    "\n",
    "\n",
    "# Result = 10000. - Bank1\n",
    "#          25000. - Bank2\n",
    "#          15000. - Bank3"
   ]
  },
  {
   "cell_type": "code",
   "execution_count": 1,
   "id": "5c7c694a",
   "metadata": {},
   "outputs": [],
   "source": [
    "import numpy as np"
   ]
  },
  {
   "cell_type": "code",
   "execution_count": 2,
   "id": "1cc2be38",
   "metadata": {},
   "outputs": [],
   "source": [
    "a = np.matrix(\"1,1,1;0.05,0.07,0;0.05, 0, 0.06\")\n",
    "b = np.matrix(\"50000;2250;1400\")\n",
    "a_inv = np.linalg.inv(a)\n",
    "x = a_inv.dot(b)"
   ]
  },
  {
   "cell_type": "code",
   "execution_count": 3,
   "id": "598d0156",
   "metadata": {},
   "outputs": [
    {
     "data": {
      "text/plain": [
       "matrix([[10000.],\n",
       "        [25000.],\n",
       "        [15000.]])"
      ]
     },
     "execution_count": 3,
     "metadata": {},
     "output_type": "execute_result"
    }
   ],
   "source": [
    "x"
   ]
  },
  {
   "cell_type": "markdown",
   "id": "20df89a8",
   "metadata": {},
   "source": [
    "Task#2"
   ]
  },
  {
   "cell_type": "markdown",
   "id": "67fca2a3",
   "metadata": {},
   "source": [
    "# ---IPhone 6   --        x\n",
    "# ---IPhone 11  --        y\n",
    "# ---IPhone 12  --        z\n",
    "# __________________________________all: 1328\n",
    "#\n",
    "# x + y + z = 1328               1x + 1y + 1z = 1328\n",
    "# x = y - 120          ===>      1x + (-1)y + 0z = -120\n",
    "# x = z + 100                    1x + 0y + (-1)z = 100\n",
    "\n",
    "#Result:\n",
    "#---IPhone 6   --         436\n",
    "# ---IPhone 11  --        556\n",
    "# ---IPhone 12  --        336"
   ]
  },
  {
   "cell_type": "code",
   "execution_count": 4,
   "id": "b765c923",
   "metadata": {},
   "outputs": [],
   "source": [
    "import numpy as np"
   ]
  },
  {
   "cell_type": "code",
   "execution_count": 5,
   "id": "276252e8",
   "metadata": {},
   "outputs": [],
   "source": [
    "a = np.matrix(\"1,1,1;1,-1,0;1, 0, -1\")\n",
    "b = np.matrix(\"1328;-120;100\")\n",
    "a_inv = np.linalg.inv(a)\n",
    "x = a_inv.dot(b)"
   ]
  },
  {
   "cell_type": "code",
   "execution_count": 6,
   "id": "4a7ce573",
   "metadata": {},
   "outputs": [
    {
     "data": {
      "text/plain": [
       "matrix([[436.],\n",
       "        [556.],\n",
       "        [336.]])"
      ]
     },
     "execution_count": 6,
     "metadata": {},
     "output_type": "execute_result"
    }
   ],
   "source": [
    "x"
   ]
  },
  {
   "cell_type": "markdown",
   "id": "8e4605c7",
   "metadata": {},
   "source": [
    "Check Result"
   ]
  },
  {
   "cell_type": "code",
   "execution_count": 9,
   "id": "ad676afa",
   "metadata": {},
   "outputs": [
    {
     "data": {
      "text/plain": [
       "1328.0000000000002"
      ]
     },
     "execution_count": 9,
     "metadata": {},
     "output_type": "execute_result"
    }
   ],
   "source": [
    "x.sum()"
   ]
  },
  {
   "cell_type": "markdown",
   "id": "21a3032f",
   "metadata": {},
   "source": [
    "Task #3"
   ]
  },
  {
   "cell_type": "code",
   "execution_count": 10,
   "id": "fb8febbf",
   "metadata": {},
   "outputs": [],
   "source": [
    "import numpy as np\n"
   ]
  },
  {
   "cell_type": "markdown",
   "id": "d6496d10",
   "metadata": {},
   "source": [
    "#Define the three points as NumPy arrays:"
   ]
  },
  {
   "cell_type": "code",
   "execution_count": 12,
   "id": "2f6d451c",
   "metadata": {},
   "outputs": [],
   "source": [
    "A = np.array([np.sqrt(3), 0, np.sqrt(3)])\n",
    "B = np.array([np.sqrt(6), 0.5, 0])\n",
    "C = np.array([1, 1/np.sqrt(3), 1])"
   ]
  },
  {
   "cell_type": "markdown",
   "id": "637fad1f",
   "metadata": {},
   "source": [
    "#Calculate the midpoints of the line segments AB, AC, and BC:"
   ]
  },
  {
   "cell_type": "code",
   "execution_count": 15,
   "id": "c7000783",
   "metadata": {},
   "outputs": [],
   "source": [
    "MAB = (A + B) / 2\n",
    "MAC = (A + C) / 2\n",
    "MBC = (B + C) / 2"
   ]
  },
  {
   "cell_type": "markdown",
   "id": "05b38b1b",
   "metadata": {},
   "source": [
    "#Calculate the direction vectors of the line segments AB, AC, and BC:"
   ]
  },
  {
   "cell_type": "code",
   "execution_count": 16,
   "id": "7729af93",
   "metadata": {},
   "outputs": [],
   "source": [
    "u = B - A\n",
    "v = C - A\n",
    "w = C - B"
   ]
  },
  {
   "cell_type": "markdown",
   "id": "7bab5a69",
   "metadata": {},
   "source": [
    "#Calculate the normal vector of the plane containing the points A, B, and C:"
   ]
  },
  {
   "cell_type": "code",
   "execution_count": 17,
   "id": "b08672e5",
   "metadata": {},
   "outputs": [],
   "source": [
    "n = np.cross(u, v)"
   ]
  },
  {
   "cell_type": "markdown",
   "id": "103acdff",
   "metadata": {},
   "source": [
    "#Calculate the coefficients of the quadratic equation defining the ellipsoid:"
   ]
  },
  {
   "cell_type": "code",
   "execution_count": 19,
   "id": "e92dde61",
   "metadata": {},
   "outputs": [],
   "source": [
    "alpha = np.dot(u, u)\n",
    "beta = np.dot(v, v)\n",
    "gamma = np.dot(w, w)\n",
    "delta = 2 * np.dot(u, v * np.dot(w, n))\n",
    "epsilon = 2 * np.dot(u, w * np.dot(v, n))\n",
    "zeta = 2 * np.dot(v, w * np.dot(u, n))"
   ]
  },
  {
   "cell_type": "markdown",
   "id": "1888a935",
   "metadata": {},
   "source": [
    "#Calculate the center of the ellipsoid:"
   ]
  },
  {
   "cell_type": "code",
   "execution_count": 20,
   "id": "af6f1b1c",
   "metadata": {},
   "outputs": [],
   "source": [
    "D = np.linalg.solve(np.array([[alpha, delta/2, epsilon/2], [delta/2, beta, zeta/2], [epsilon/2, zeta/2, gamma]]), np.array([np.dot(A, A) - np.dot(MAB, MAB), np.dot(B, B) - np.dot(MBC, MBC), np.dot(C, C) - np.dot(MAC, MAC)]))"
   ]
  },
  {
   "cell_type": "markdown",
   "id": "d1b04e5f",
   "metadata": {},
   "source": [
    "#Calculate the radii of the ellipsoid:"
   ]
  },
  {
   "cell_type": "code",
   "execution_count": 21,
   "id": "4ca98d29",
   "metadata": {},
   "outputs": [],
   "source": [
    "a = np.sqrt((np.dot(D-MAB,u)**2 + np.dot(D-MAB,v)**2 + np.dot(D-MAB,w)**2) / alpha)\n",
    "b = np.sqrt((np.dot(D-MBC,u)**2 + np.dot(D-MBC,v)**2 + np.dot(D-MBC,w)**2) / beta)\n",
    "c = np.sqrt((np.dot(D-MAC,u)**2 + np.dot(D-MAC,v)**2 + np.dot(D-MAC,w)**2) / gamma)"
   ]
  },
  {
   "cell_type": "code",
   "execution_count": 22,
   "id": "602a8f26",
   "metadata": {},
   "outputs": [
    {
     "name": "stdout",
     "output_type": "stream",
     "text": [
      " a**2 = 4.444192424191531, b**2 = 7.3946844040876964, c**2 = 6.478400579961988\n"
     ]
    }
   ],
   "source": [
    "print (f' a**2 = {a**2}, b**2 = {b**2}, c**2 = {c**2}')"
   ]
  },
  {
   "cell_type": "code",
   "execution_count": 23,
   "id": "12e9c1d1",
   "metadata": {},
   "outputs": [
    {
     "name": "stdout",
     "output_type": "stream",
     "text": [
      "(x - 0.21679698739113096)**2/4.444192424191531 + (y - 1.9464989199403104)**2/7.3946844040876964 + (z - -0.4770032509095099)**2/6.478400579961988 = 1\n"
     ]
    }
   ],
   "source": [
    "print(f\"(x - {D[0]})**2/{a**2} + (y - {D[1]})**2/{b**2} + (z - {D[2]})**2/{c**2} = 1\")"
   ]
  },
  {
   "cell_type": "markdown",
   "id": "42566a23",
   "metadata": {},
   "source": [
    "Task #4"
   ]
  },
  {
   "cell_type": "code",
   "execution_count": 24,
   "id": "34975e77",
   "metadata": {},
   "outputs": [],
   "source": [
    "import numpy as np"
   ]
  },
  {
   "cell_type": "markdown",
   "id": "d9faf878",
   "metadata": {},
   "source": [
    "# Define the three points as NumPy arrays:"
   ]
  },
  {
   "cell_type": "code",
   "execution_count": 25,
   "id": "654909b7",
   "metadata": {},
   "outputs": [],
   "source": [
    "A = np.array([1, 12])\n",
    "B = np.array([3, 54])\n",
    "C = np.array([-1, 2])"
   ]
  },
  {
   "cell_type": "code",
   "execution_count": 26,
   "id": "13a37b3a",
   "metadata": {},
   "outputs": [],
   "source": [
    "init_matrix = np.matrix([A,B, C])"
   ]
  },
  {
   "cell_type": "code",
   "execution_count": 27,
   "id": "d358831b",
   "metadata": {},
   "outputs": [],
   "source": [
    "transpon_matrix = init_matrix.T"
   ]
  },
  {
   "cell_type": "code",
   "execution_count": 28,
   "id": "93dceb23",
   "metadata": {},
   "outputs": [],
   "source": [
    "x =  np.squeeze(np.asarray(transpon_matrix[0]))\n",
    "y =  np.squeeze(np.asarray(transpon_matrix[1]))"
   ]
  },
  {
   "cell_type": "markdown",
   "id": "bf634247",
   "metadata": {},
   "source": [
    "# Find the coefficients of the quadratic function that fits the points"
   ]
  },
  {
   "cell_type": "code",
   "execution_count": 29,
   "id": "ace43099",
   "metadata": {},
   "outputs": [],
   "source": [
    "coefficients = np.polyfit(x, y, 2)"
   ]
  },
  {
   "cell_type": "code",
   "execution_count": 30,
   "id": "edd99eeb",
   "metadata": {},
   "outputs": [
    {
     "data": {
      "text/plain": [
       "array([4., 5., 3.])"
      ]
     },
     "execution_count": 30,
     "metadata": {},
     "output_type": "execute_result"
    }
   ],
   "source": [
    "coefficients"
   ]
  },
  {
   "cell_type": "markdown",
   "id": "0eea6734",
   "metadata": {},
   "source": [
    "Task #5"
   ]
  },
  {
   "cell_type": "code",
   "execution_count": 31,
   "id": "45acb8ba",
   "metadata": {},
   "outputs": [],
   "source": [
    "import numpy as np"
   ]
  },
  {
   "cell_type": "code",
   "execution_count": 32,
   "id": "56778891",
   "metadata": {},
   "outputs": [],
   "source": [
    "def get_polynom(coords):\n",
    "    n = len(coords)\n",
    "    x = [c[0] for c in coords]\n",
    "    y = [c[1] for c in coords]\n",
    "    a = np.ones((n, n))\n",
    "\n",
    "    # calc x matrix\n",
    "    for i in range(len(x)): # row\n",
    "        for j in range(1, len(x)): # colon\n",
    "\n",
    "            a[i][j] = pow(x[i],j)\n",
    "\n",
    "    # calc y matrix\n",
    "    text_to_b = ''\n",
    "    for item in y:\n",
    "\n",
    "        text_item = f'{item};'\n",
    "        text_to_b += text_item\n",
    "\n",
    "    text_to_b = text_to_b[:-1]\n",
    "    b = np.matrix(text_to_b)\n",
    "\n",
    "    # calc coeficients\n",
    "    return np.linalg.solve(a, b)"
   ]
  },
  {
   "cell_type": "code",
   "execution_count": 33,
   "id": "3195a853",
   "metadata": {},
   "outputs": [],
   "source": [
    "coords =  [(-1, 2), (0, 3), (3, 4), (5, 0)]"
   ]
  },
  {
   "cell_type": "code",
   "execution_count": 34,
   "id": "4fa17a26",
   "metadata": {},
   "outputs": [
    {
     "data": {
      "text/plain": [
       "matrix([[ 3.        ],\n",
       "        [ 0.98333333],\n",
       "        [-0.06666667],\n",
       "        [-0.05      ]])"
      ]
     },
     "execution_count": 34,
     "metadata": {},
     "output_type": "execute_result"
    }
   ],
   "source": [
    "get_polynom(coords)"
   ]
  },
  {
   "cell_type": "code",
   "execution_count": null,
   "id": "d9688d1c",
   "metadata": {},
   "outputs": [],
   "source": []
  }
 ],
 "metadata": {
  "kernelspec": {
   "display_name": "Python 3 (ipykernel)",
   "language": "python",
   "name": "python3"
  },
  "language_info": {
   "codemirror_mode": {
    "name": "ipython",
    "version": 3
   },
   "file_extension": ".py",
   "mimetype": "text/x-python",
   "name": "python",
   "nbconvert_exporter": "python",
   "pygments_lexer": "ipython3",
   "version": "3.10.4"
  }
 },
 "nbformat": 4,
 "nbformat_minor": 5
}
