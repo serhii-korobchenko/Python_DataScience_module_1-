{
 "cells": [
  {
   "cell_type": "code",
   "execution_count": 1,
   "id": "5b1d839b",
   "metadata": {},
   "outputs": [],
   "source": [
    "import numpy as np"
   ]
  },
  {
   "cell_type": "code",
   "execution_count": 2,
   "id": "1b23ab67",
   "metadata": {},
   "outputs": [],
   "source": [
    "a = np.matrix(\"1,1,1;1,-1,0;1, 0, -1\")"
   ]
  },
  {
   "cell_type": "code",
   "execution_count": 3,
   "id": "a6555d05",
   "metadata": {},
   "outputs": [],
   "source": [
    "b = np.matrix(\"1328;-120;100\")"
   ]
  },
  {
   "cell_type": "code",
   "execution_count": 4,
   "id": "45b80676",
   "metadata": {},
   "outputs": [],
   "source": [
    "a_inv = np.linalg.inv(a)"
   ]
  },
  {
   "cell_type": "code",
   "execution_count": 5,
   "id": "47709ac6",
   "metadata": {},
   "outputs": [],
   "source": [
    "x = a_inv.dot(b)"
   ]
  },
  {
   "cell_type": "code",
   "execution_count": 6,
   "id": "75b3e259",
   "metadata": {},
   "outputs": [
    {
     "data": {
      "text/plain": [
       "matrix([[436.],\n",
       "        [556.],\n",
       "        [336.]])"
      ]
     },
     "execution_count": 6,
     "metadata": {},
     "output_type": "execute_result"
    }
   ],
   "source": [
    "x"
   ]
  },
  {
   "cell_type": "code",
   "execution_count": 7,
   "id": "fdc6269c",
   "metadata": {},
   "outputs": [
    {
     "data": {
      "text/plain": [
       "1328.0000000000002"
      ]
     },
     "execution_count": 7,
     "metadata": {},
     "output_type": "execute_result"
    }
   ],
   "source": [
    "x.sum()"
   ]
  },
  {
   "cell_type": "code",
   "execution_count": null,
   "id": "b6eeba97",
   "metadata": {},
   "outputs": [],
   "source": []
  }
 ],
 "metadata": {
  "kernelspec": {
   "display_name": "Python 3 (ipykernel)",
   "language": "python",
   "name": "python3"
  },
  "language_info": {
   "codemirror_mode": {
    "name": "ipython",
    "version": 3
   },
   "file_extension": ".py",
   "mimetype": "text/x-python",
   "name": "python",
   "nbconvert_exporter": "python",
   "pygments_lexer": "ipython3",
   "version": "3.10.4"
  }
 },
 "nbformat": 4,
 "nbformat_minor": 5
}
