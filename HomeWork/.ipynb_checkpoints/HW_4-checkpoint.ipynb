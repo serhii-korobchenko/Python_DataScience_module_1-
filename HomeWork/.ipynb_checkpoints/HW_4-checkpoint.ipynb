{
 "cells": [
  {
   "cell_type": "code",
   "execution_count": 1,
   "id": "d0397527",
   "metadata": {},
   "outputs": [],
   "source": [
    "import numpy as np"
   ]
  },
  {
   "cell_type": "code",
   "execution_count": 2,
   "id": "6e93111c",
   "metadata": {},
   "outputs": [],
   "source": [
    "A = np.array([1, 12])\n",
    "B = np.array([3, 54])\n",
    "C = np.array([-1, 2])"
   ]
  },
  {
   "cell_type": "code",
   "execution_count": 3,
   "id": "55343f9b",
   "metadata": {},
   "outputs": [],
   "source": [
    "init_matrix = np.matrix([A,B, C])"
   ]
  },
  {
   "cell_type": "code",
   "execution_count": 4,
   "id": "bae8a082",
   "metadata": {},
   "outputs": [],
   "source": [
    "transpon_matrix = init_matrix.T"
   ]
  },
  {
   "cell_type": "code",
   "execution_count": 5,
   "id": "c70d8430",
   "metadata": {},
   "outputs": [],
   "source": [
    "x =  np.squeeze(np.asarray(transpon_matrix[0]))\n",
    "y =  np.squeeze(np.asarray(transpon_matrix[1]))"
   ]
  },
  {
   "cell_type": "code",
   "execution_count": 6,
   "id": "0af3a399",
   "metadata": {},
   "outputs": [],
   "source": [
    "coefficients = np.polyfit(x, y, 2)"
   ]
  },
  {
   "cell_type": "code",
   "execution_count": 7,
   "id": "1755d9e6",
   "metadata": {},
   "outputs": [
    {
     "data": {
      "text/plain": [
       "array([4., 5., 3.])"
      ]
     },
     "execution_count": 7,
     "metadata": {},
     "output_type": "execute_result"
    }
   ],
   "source": [
    "coefficients"
   ]
  },
  {
   "cell_type": "code",
   "execution_count": null,
   "id": "2b1bd44a",
   "metadata": {},
   "outputs": [],
   "source": []
  }
 ],
 "metadata": {
  "kernelspec": {
   "display_name": "Python 3 (ipykernel)",
   "language": "python",
   "name": "python3"
  },
  "language_info": {
   "codemirror_mode": {
    "name": "ipython",
    "version": 3
   },
   "file_extension": ".py",
   "mimetype": "text/x-python",
   "name": "python",
   "nbconvert_exporter": "python",
   "pygments_lexer": "ipython3",
   "version": "3.10.4"
  }
 },
 "nbformat": 4,
 "nbformat_minor": 5
}
